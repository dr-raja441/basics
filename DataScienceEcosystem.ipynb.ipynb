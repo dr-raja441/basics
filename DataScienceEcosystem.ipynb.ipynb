{
 "cells": [
  {
   "cell_type": "markdown",
   "id": "9bcca756-ac15-4b56-9daa-b8f6e8c7c585",
   "metadata": {},
   "source": [
    "#Data Science Tools and Ecosystem"
   ]
  },
  {
   "cell_type": "markdown",
   "id": "d1004192-bd7e-42ef-b09a-4173043ebd45",
   "metadata": {},
   "source": [
    "##In this notebook, Data Science Tools and Ecosystem are summarized."
   ]
  },
  {
   "cell_type": "markdown",
   "id": "2c78a9d8-2895-48cc-905c-aa7a270e56a2",
   "metadata": {},
   "source": [
    "Some of the popular languages that Data Scientists use are:"
   ]
  },
  {
   "cell_type": "markdown",
   "id": "24bc55da-213e-4a22-b592-22fcb5520b9e",
   "metadata": {},
   "source": [
    "1. Python\n",
    "2. SQL\n",
    "3. R"
   ]
  },
  {
   "cell_type": "markdown",
   "id": "fa620df4-815a-4a88-a173-40d0d334ff70",
   "metadata": {},
   "source": [
    "Some of the commonly used libraries used by Data Scientists include:"
   ]
  },
  {
   "cell_type": "markdown",
   "id": "05086df4-7ffa-4c9f-8fff-13a1f34e1387",
   "metadata": {},
   "source": [
    "1. NumPy\n",
    "2. Pandas\n",
    "3. TesorFlow\n",
    "4. Scipy\n",
    "5. Matplotlib\n",
    "6. Keras\n",
    "7. Scikit-Learn\n",
    "8. PyTorch\n",
    "9. Scrapy\n",
    "10. BeautifulSoup\n",
    "\n"
   ]
  },
  {
   "cell_type": "markdown",
   "id": "d15babb2-8d23-4925-a380-87b48d3e75c9",
   "metadata": {},
   "source": [
    "|Data Science Tools|\n",
    "|------|\n",
    "|Jupyter|\n",
    "|Apache Spark|\n",
    "|Tableau|"
   ]
  },
  {
   "cell_type": "markdown",
   "id": "3b8e8aaa-8632-4c46-9ba3-834cd20fa6d6",
   "metadata": {},
   "source": [
    "|Data Science Tools|\n",
    "|------|\n",
    "|Jupyter|\n",
    "|Apache Spark|\n",
    "|Tableau|"
   ]
  },
  {
   "cell_type": "markdown",
   "id": "87a31f93-0f72-45ff-a275-e3780113d046",
   "metadata": {},
   "source": [
    "### Below are a few examples of evaluating arithmetic expressions in Python."
   ]
  },
  {
   "cell_type": "markdown",
   "id": "d0175c7a-2e6b-4b1e-98f2-4da85e0f5b8f",
   "metadata": {},
   "source": [
    "### Below are a few examples of evaluating arithmetic expressions in Python."
   ]
  },
  {
   "cell_type": "code",
   "execution_count": 2,
   "id": "64cd7ef7-5ffe-49b9-a9a3-c535e6898539",
   "metadata": {
    "tags": []
   },
   "outputs": [
    {
     "data": {
      "text/plain": [
       "17"
      ]
     },
     "execution_count": 2,
     "metadata": {},
     "output_type": "execute_result"
    }
   ],
   "source": [
    "#This a simple arithmetic expression to mutiply then add integers\n",
    "(3*4)+5"
   ]
  },
  {
   "cell_type": "code",
   "execution_count": 5,
   "id": "6f4123a6-47a4-4898-9bec-db365857f905",
   "metadata": {
    "tags": []
   },
   "outputs": [
    {
     "name": "stdout",
     "output_type": "stream",
     "text": [
      "3.3333333333333335\n"
     ]
    }
   ],
   "source": [
    "#This will convert 200 minutes to hours by diving by 60\n",
    "min =200\n",
    "No_Hours = min/60\n",
    "print(No_Hours)"
   ]
  },
  {
   "cell_type": "markdown",
   "id": "26ab0268-0371-4625-b1ef-0ba47aea31ae",
   "metadata": {},
   "source": [
    "Objectives:\n",
    "- How insert the markdown cell\n",
    "- Inserting the markdown cell with various headings\n",
    "- creating the order list\n",
    "- create the table \n",
    "- evaluate the arithmetic expressions"
   ]
  },
  {
   "cell_type": "markdown",
   "id": "b5218488-958a-4cec-a55c-d3f471d5521b",
   "metadata": {},
   "source": [
    "Objectives:\n",
    "- How insert the markdown cell\n",
    "- Inserting the markdown cell with various headings\n",
    "- creating the order list\n",
    "- create the table \n",
    "- evaluate the arithmetic expressions"
   ]
  },
  {
   "cell_type": "markdown",
   "id": "628186d2-27f9-447d-b653-a57013e97f24",
   "metadata": {},
   "source": [
    "## Author\n",
    "\n",
    "Rajasekhar Manda"
   ]
  },
  {
   "cell_type": "markdown",
   "id": "2db2db16-4f52-40fe-8895-67f6f2250af6",
   "metadata": {
    "tags": []
   },
   "source": [
    "## Author\n",
    "\n",
    "Rajasekhar Manda"
   ]
  },
  {
   "cell_type": "code",
   "execution_count": null,
   "id": "d1f517bd-e61a-4ad8-bff6-600f9ae5d592",
   "metadata": {},
   "outputs": [],
   "source": []
  }
 ],
 "metadata": {
  "kernelspec": {
   "display_name": "Python",
   "language": "python",
   "name": "conda-env-python-py"
  },
  "language_info": {
   "codemirror_mode": {
    "name": "ipython",
    "version": 3
   },
   "file_extension": ".py",
   "mimetype": "text/x-python",
   "name": "python",
   "nbconvert_exporter": "python",
   "pygments_lexer": "ipython3",
   "version": "3.7.12"
  }
 },
 "nbformat": 4,
 "nbformat_minor": 5
}
